{
 "cells": [
  {
   "cell_type": "code",
   "execution_count": 2,
   "id": "6d40f7dd",
   "metadata": {},
   "outputs": [],
   "source": [
    "from pandas import read_csv"
   ]
  },
  {
   "cell_type": "code",
   "execution_count": 16,
   "id": "95ce75bb",
   "metadata": {},
   "outputs": [
    {
     "name": "stdout",
     "output_type": "stream",
     "text": [
      "      Years     Month   Division    District  \\\n",
      "0      2011   January    Karachi  South Zone   \n",
      "1      2011   January    Karachi  South Zone   \n",
      "2      2011   January    Karachi  South Zone   \n",
      "3      2011   January    Karachi  South Zone   \n",
      "4      2011   January    Karachi  South Zone   \n",
      "...     ...       ...        ...         ...   \n",
      "7729   2014  December  S.B.Abad    N. Feroze   \n",
      "7730   2014  December  S.B.Abad    N. Feroze   \n",
      "7731   2014  December  S.B.Abad    N. Feroze   \n",
      "7732   2014  December  S.B.Abad    N. Feroze   \n",
      "7733   2014  December  S.B.Abad    N. Feroze   \n",
      "\n",
      "                                Crime Type  Reported Number  \\\n",
      "0                                   Murder             23.0   \n",
      "1     Murder in the form of target killing              3.0   \n",
      "2            Murder during dacoity/robbery              2.0   \n",
      "3                  Highway dacoity/robbery              0.0   \n",
      "4                     Bank dacoity/robbery              0.0   \n",
      "...                                    ...              ...   \n",
      "7729  Murder in the form of target killing              0.0   \n",
      "7730         Murder during dacoity/robbery              0.0   \n",
      "7731               Highway dacoity/robbery              0.0   \n",
      "7732                  Bank dacoity/robbery              0.0   \n",
      "7733                         Car snatching              0.0   \n",
      "\n",
      "                                                  Notes  Unnamed: 7  \\\n",
      "0     File for January 2011 not available, calculate...         NaN   \n",
      "1     File for January 2011 not available, calculate...         NaN   \n",
      "2     File for January 2011 not available, calculate...         NaN   \n",
      "3     File for January 2011 not available, calculate...         NaN   \n",
      "4     File for January 2011 not available, calculate...         NaN   \n",
      "...                                                 ...         ...   \n",
      "7729                                                NaN         NaN   \n",
      "7730                                                NaN         NaN   \n",
      "7731                                                NaN         NaN   \n",
      "7732                                                NaN         NaN   \n",
      "7733                                                NaN         NaN   \n",
      "\n",
      "      Unnamed: 8 Unnamed: 9  \n",
      "0            NaN        NaN  \n",
      "1            NaN        NaN  \n",
      "2            NaN        NaN  \n",
      "3            NaN        NaN  \n",
      "4            NaN        NaN  \n",
      "...          ...        ...  \n",
      "7729         NaN        NaN  \n",
      "7730         NaN        NaN  \n",
      "7731         NaN        NaN  \n",
      "7732         NaN        NaN  \n",
      "7733         NaN        NaN  \n",
      "\n",
      "[7734 rows x 10 columns]\n"
     ]
    }
   ],
   "source": [
    "series = read_csv('sindh-crime-statistics.csv')\n",
    "print(series)"
   ]
  },
  {
   "cell_type": "code",
   "execution_count": 25,
   "id": "44294ae2",
   "metadata": {},
   "outputs": [
    {
     "name": "stdout",
     "output_type": "stream",
     "text": [
      "2011\n"
     ]
    }
   ],
   "source": [
    "X=series[['Month','Reported Number','Years']]\n",
    "print(X.iloc[2]['Years'])"
   ]
  },
  {
   "cell_type": "code",
   "execution_count": 40,
   "id": "273cf1b9",
   "metadata": {},
   "outputs": [],
   "source": [
    "rowlist=[]\n",
    "Years=['2011','2012','2013','2014']\n",
    "month=['January','February','March','April','May','June','July','August','September','October','November','December']\n",
    "newFoundList=[]\n",
    "sum=0\n",
    "for j in Years:\n",
    "    for jk in range(len(month)):\n",
    "        sum=0\n",
    "        shortlist=[]\n",
    "        for i in range(len(X)):\n",
    "            if X.iloc[i]['Years']==int(j) and X.iloc[i]['Month']==month[jk]:\n",
    "                sum=sum+X.iloc[i]['Reported Number']\n",
    "        shortlist.append(int(j))\n",
    "        shortlist.append(int(jk))\n",
    "        shortlist.append(int(sum))\n",
    "        newFoundList.append(shortlist)\n",
    "                "
   ]
  },
  {
   "cell_type": "code",
   "execution_count": 33,
   "id": "6a2d6eb8",
   "metadata": {},
   "outputs": [
    {
     "name": "stdout",
     "output_type": "stream",
     "text": [
      "sdf\n"
     ]
    }
   ],
   "source": [
    "if X.iloc[i]['Years']==2014:\n",
    "    print(\"sdf\")"
   ]
  },
  {
   "cell_type": "code",
   "execution_count": 45,
   "id": "089b6b82",
   "metadata": {},
   "outputs": [],
   "source": [
    "import csv\n",
    "\n",
    "with open('NewSidhDataset.csv', 'w', newline='') as file:\n",
    "    writer = csv.writer(file)\n",
    "    writer.writerows(newFoundList)"
   ]
  },
  {
   "cell_type": "code",
   "execution_count": 35,
   "id": "77232d1a",
   "metadata": {},
   "outputs": [
    {
     "name": "stdout",
     "output_type": "stream",
     "text": [
      "46.0\n"
     ]
    }
   ],
   "source": [
    "print(X.iloc[0]['Reported Number']+X.iloc[0]['Reported Number'])"
   ]
  },
  {
   "cell_type": "code",
   "execution_count": 44,
   "id": "54f1283a",
   "metadata": {},
   "outputs": [
    {
     "name": "stdout",
     "output_type": "stream",
     "text": [
      "[['Year', 'Month', 'cases'], [2011, 0, 320], [2011, 1, 306], [2011, 2, 306], [2011, 3, 398], [2011, 4, 416], [2011, 5, 444], [2011, 6, 515], [2011, 7, 446], [2011, 8, 339], [2011, 9, 378], [2011, 10, 301], [2011, 11, 296], [2012, 0, 326], [2012, 1, 319], [2012, 2, 354], [2012, 3, 419], [2012, 4, 460], [2012, 5, 477], [2012, 6, 475], [2012, 7, 439], [2012, 8, 443], [2012, 9, 473], [2012, 10, 365], [2012, 11, 375], [2013, 0, 395], [2013, 1, 401], [2013, 2, 442], [2013, 3, 402], [2013, 4, 443], [2013, 5, 444], [2013, 6, 445], [2013, 7, 436], [2013, 8, 381], [2013, 9, 344], [2013, 10, 303], [2013, 11, 320], [2014, 0, 373], [2014, 1, 380], [2014, 2, 371], [2014, 3, 390], [2014, 4, 418], [2014, 5, 397], [2014, 6, 357], [2014, 7, 346], [2014, 8, 354], [2014, 9, 311], [2014, 10, 280], [2014, 11, 263]]\n"
     ]
    }
   ],
   "source": [
    "newFoundList.insert(0,['Year','Month','cases'])\n",
    "print(newFoundList)"
   ]
  },
  {
   "cell_type": "code",
   "execution_count": 1,
   "id": "add17928",
   "metadata": {},
   "outputs": [
    {
     "ename": "NameError",
     "evalue": "name 'newFoundList' is not defined",
     "output_type": "error",
     "traceback": [
      "\u001b[1;31m---------------------------------------------------------------------------\u001b[0m",
      "\u001b[1;31mNameError\u001b[0m                                 Traceback (most recent call last)",
      "\u001b[1;32m<ipython-input-1-3ac5a40e28ee>\u001b[0m in \u001b[0;36m<module>\u001b[1;34m\u001b[0m\n\u001b[1;32m----> 1\u001b[1;33m \u001b[0mprint\u001b[0m\u001b[1;33m(\u001b[0m\u001b[0mnewFoundList\u001b[0m\u001b[1;33m)\u001b[0m\u001b[1;33m\u001b[0m\u001b[1;33m\u001b[0m\u001b[0m\n\u001b[0m",
      "\u001b[1;31mNameError\u001b[0m: name 'newFoundList' is not defined"
     ]
    }
   ],
   "source": [
    "print(newFoundList)"
   ]
  },
  {
   "cell_type": "code",
   "execution_count": 3,
   "id": "3b423261",
   "metadata": {},
   "outputs": [
    {
     "name": "stdout",
     "output_type": "stream",
     "text": [
      "    Year  Month  cases\n",
      "0   2011      0    320\n",
      "1   2011      1    306\n",
      "2   2011      2    306\n",
      "3   2011      3    398\n",
      "4   2011      4    416\n",
      "5   2011      5    444\n",
      "6   2011      6    515\n",
      "7   2011      7    446\n",
      "8   2011      8    339\n",
      "9   2011      9    378\n",
      "10  2011     10    301\n",
      "11  2011     11    296\n",
      "12  2012      0    326\n",
      "13  2012      1    319\n",
      "14  2012      2    354\n",
      "15  2012      3    419\n",
      "16  2012      4    460\n",
      "17  2012      5    477\n",
      "18  2012      6    475\n",
      "19  2012      7    439\n",
      "20  2012      8    443\n",
      "21  2012      9    473\n",
      "22  2012     10    365\n",
      "23  2012     11    375\n",
      "24  2013      0    395\n",
      "25  2013      1    401\n",
      "26  2013      2    442\n",
      "27  2013      3    402\n",
      "28  2013      4    443\n",
      "29  2013      5    444\n",
      "30  2013      6    445\n",
      "31  2013      7    436\n",
      "32  2013      8    381\n",
      "33  2013      9    344\n",
      "34  2013     10    303\n",
      "35  2013     11    320\n",
      "36  2014      0    373\n",
      "37  2014      1    380\n",
      "38  2014      2    371\n",
      "39  2014      3    390\n",
      "40  2014      4    418\n",
      "41  2014      5    397\n",
      "42  2014      6    357\n",
      "43  2014      7    346\n",
      "44  2014      8    354\n",
      "45  2014      9    311\n",
      "46  2014     10    280\n",
      "47  2014     11    263\n"
     ]
    }
   ],
   "source": [
    "series = read_csv('NewSidhDataset.csv')\n",
    "print(series)"
   ]
  },
  {
   "cell_type": "code",
   "execution_count": 9,
   "id": "72c16366",
   "metadata": {},
   "outputs": [
    {
     "name": "stdout",
     "output_type": "stream",
     "text": [
      "Year     2011\n",
      "Month       0\n",
      "cases     320\n",
      "Name: 0, dtype: int64\n"
     ]
    }
   ],
   "source": [
    "X=series[['Year','Month','cases']]\n",
    "print(X.iloc[0])"
   ]
  },
  {
   "cell_type": "code",
   "execution_count": 11,
   "id": "887c6cc8",
   "metadata": {},
   "outputs": [],
   "source": [
    "newListdata=[]\n",
    "for i in range(len(X)):\n",
    "    lw=[]\n",
    "    #print(X.iloc[i]['Year']+\"-\"+X.iloc[i]['Month'])\n",
    "    lw.append(str(X.iloc[i]['Year'])+\"-\"+str(X.iloc[i]['Month']))\n",
    "    lw.append(X.iloc[i]['cases'])\n",
    "    newListdata.append(lw)"
   ]
  },
  {
   "cell_type": "code",
   "execution_count": 13,
   "id": "899ccf1b",
   "metadata": {},
   "outputs": [
    {
     "name": "stdout",
     "output_type": "stream",
     "text": [
      "[['data', 'cases'], ['2011-0', 320], ['2011-1', 306], ['2011-2', 306], ['2011-3', 398], ['2011-4', 416], ['2011-5', 444], ['2011-6', 515], ['2011-7', 446], ['2011-8', 339], ['2011-9', 378], ['2011-10', 301], ['2011-11', 296], ['2012-0', 326], ['2012-1', 319], ['2012-2', 354], ['2012-3', 419], ['2012-4', 460], ['2012-5', 477], ['2012-6', 475], ['2012-7', 439], ['2012-8', 443], ['2012-9', 473], ['2012-10', 365], ['2012-11', 375], ['2013-0', 395], ['2013-1', 401], ['2013-2', 442], ['2013-3', 402], ['2013-4', 443], ['2013-5', 444], ['2013-6', 445], ['2013-7', 436], ['2013-8', 381], ['2013-9', 344], ['2013-10', 303], ['2013-11', 320], ['2014-0', 373], ['2014-1', 380], ['2014-2', 371], ['2014-3', 390], ['2014-4', 418], ['2014-5', 397], ['2014-6', 357], ['2014-7', 346], ['2014-8', 354], ['2014-9', 311], ['2014-10', 280], ['2014-11', 263]]\n"
     ]
    }
   ],
   "source": [
    "newListdata.insert(0,['data','cases'])\n",
    "print(newListdata)"
   ]
  },
  {
   "cell_type": "code",
   "execution_count": 14,
   "id": "ad374ed2",
   "metadata": {},
   "outputs": [],
   "source": [
    "import csv\n",
    "\n",
    "with open('DatasetWithDAte(Sindh).csv', 'w', newline='') as file:\n",
    "    writer = csv.writer(file)\n",
    "    writer.writerows(newListdata)"
   ]
  },
  {
   "cell_type": "code",
   "execution_count": null,
   "id": "644e4f89",
   "metadata": {},
   "outputs": [],
   "source": []
  }
 ],
 "metadata": {
  "kernelspec": {
   "display_name": "Python 3",
   "language": "python",
   "name": "python3"
  },
  "language_info": {
   "codemirror_mode": {
    "name": "ipython",
    "version": 3
   },
   "file_extension": ".py",
   "mimetype": "text/x-python",
   "name": "python",
   "nbconvert_exporter": "python",
   "pygments_lexer": "ipython3",
   "version": "3.9.5"
  }
 },
 "nbformat": 4,
 "nbformat_minor": 5
}
